{
 "cells": [
  {
   "cell_type": "code",
   "execution_count": 2,
   "metadata": {},
   "outputs": [
    {
     "data": {
      "text/plain": [
       "True"
      ]
     },
     "execution_count": 2,
     "metadata": {},
     "output_type": "execute_result"
    }
   ],
   "source": [
    "import dotenv\n",
    "import os\n",
    "dotenv.load_dotenv()"
   ]
  },
  {
   "cell_type": "code",
   "execution_count": 3,
   "metadata": {},
   "outputs": [],
   "source": [
    "\n",
    "OPENAI_API_KEY=os.environ.get(\"OPENAI_API_KEY\")"
   ]
  },
  {
   "cell_type": "code",
   "execution_count": 3,
   "metadata": {},
   "outputs": [],
   "source": [
    "from langchain_openai import ChatOpenAI\n",
    "from langchain_core.prompts import ChatPromptTemplate, MessagesPlaceholder ,PromptTemplate\n",
    "from langchain_core.runnables.history import RunnableWithMessageHistory\n",
    "from langchain.memory import ChatMessageHistory\n",
    "from langchain_core.output_parsers import StrOutputParser\n",
    "import uuid\n",
    "from langchain_core.chat_history import InMemoryChatMessageHistory,BaseChatMessageHistory"
   ]
  },
  {
   "cell_type": "code",
   "execution_count": 143,
   "metadata": {},
   "outputs": [],
   "source": [
    "model = ChatOpenAI(model=\"gpt-3.5-turbo-0125\", temperature=0.2)"
   ]
  },
  {
   "cell_type": "code",
   "execution_count": 144,
   "metadata": {},
   "outputs": [],
   "source": [
    "prompt = ChatPromptTemplate.from_messages(\n",
    "    [\n",
    "        (\n",
    "            \"system\",\n",
    "            \"You are a Medical Bot. Your primary role is to provide accurate and reliable medical information, offer guidance on symptoms, treatments, and general health concerns, and assist with medical inquiries. Always ensure your advice is based on established medical knowledge, and encourage users to consult healthcare professionals for personalized medical care.\",\n",
    "        ),\n",
    "        MessagesPlaceholder(variable_name=\"chat_history\"),\n",
    "        (\"human\", \"{input}\"),\n",
    "    ]\n",
    ")\n",
    "parser=StrOutputParser()\n",
    "\n",
    "chain = prompt | model | parser"
   ]
  },
  {
   "cell_type": "code",
   "execution_count": 156,
   "metadata": {},
   "outputs": [],
   "source": [
    "def get_chat_history(session_id: str) :\n",
    "    chat_histories= {}\n",
    "    if session_id not in chat_histories:\n",
    "        chat_histories[session_id] = InMemoryChatMessageHistory()\n",
    "    return chat_histories[session_id]"
   ]
  },
  {
   "cell_type": "code",
   "execution_count": 157,
   "metadata": {},
   "outputs": [],
   "source": [
    "def get_chat_history(self,session_id: str):\n",
    "    self.chat_histories={}  \n",
    "    if session_id not in self.chat_histories:\n",
    "        self.chat_histories[session_id] = InMemoryChatMessageHistory()\n",
    "        print(self.chat_histories)\n",
    "    return self.chat_histories[session_id]   \n"
   ]
  },
  {
   "cell_type": "code",
   "execution_count": 12,
   "metadata": {},
   "outputs": [],
   "source": [
    "chat_histories = {}\n",
    "class Query():\n",
    "       \n",
    "    def get_chat_history(self,session_id: str):  \n",
    "        if session_id not in chat_histories:\n",
    "            chat_histories[session_id] = InMemoryChatMessageHistory()\n",
    "            print(chat_histories)\n",
    "        return chat_histories[session_id]  \n",
    "    def handle_user_input(self,user_input: str, session_id: str = None):\n",
    "        model = ChatOpenAI(model=\"gpt-3.5-turbo-0125\", temperature=0.2)\n",
    "\n",
    "        prompt = ChatPromptTemplate.from_messages(\n",
    "            [\n",
    "                (\n",
    "                    \"system\",\n",
    "                    \"You are a Medical Bot. Your primary role is to provide accurate and reliable medical information, offer guidance on symptoms, treatments, and general health concerns, and assist with medical inquiries. Always ensure your advice is based on established medical knowledge, and encourage users to consult healthcare professionals for personalized medical care.\",\n",
    "                ),\n",
    "                MessagesPlaceholder(variable_name=\"chat_history\"),\n",
    "                (\"human\", \"{input}\"),\n",
    "            ]\n",
    "        )\n",
    "\n",
    "        parser=StrOutputParser()\n",
    "        chain = prompt | model | parser\n",
    "\n",
    "        if session_id is None: \n",
    "            prompt_sid=PromptTemplate(\n",
    "            input_variables=[\"user_input\"],\n",
    "            template=\"Write a concise summary of the following:{user_input}.The summary should be of 2 to 3 words\"\n",
    "                )\n",
    "\n",
    "            parse= prompt_sid.format(user_input=user_input)\n",
    "            s_id = model.invoke(parse)\n",
    "            session_id = s_id.content\n",
    "            #print(session_id)\n",
    "        config = {'configurable': {'session_id': session_id}}\n",
    "        print(config)\n",
    "\n",
    "        chain_with_message_history = RunnableWithMessageHistory(\n",
    "        chain,\n",
    "        lambda session_id: self.get_chat_history(session_id),\n",
    "        input_messages_key=\"input\",\n",
    "        history_messages_key=\"chat_history\",\n",
    "        )\n",
    "\n",
    "        payload = {\n",
    "            \"input\": user_input,\n",
    "            \"chat_history\": self.get_chat_history(session_id)\n",
    "        }\n",
    "\n",
    "        response = chain_with_message_history.invoke(payload,config=config)\n",
    "        return session_id, response\n"
   ]
  },
  {
   "cell_type": "code",
   "execution_count": 13,
   "metadata": {},
   "outputs": [
    {
     "name": "stdout",
     "output_type": "stream",
     "text": [
      "{'configurable': {'session_id': 'Prescription for fever'}}\n",
      "{'Prescription for fever': InMemoryChatMessageHistory(messages=[])}\n",
      "{'configurable': {'session_id': 'Consult doctor.'}}\n",
      "{'Prescription for fever': InMemoryChatMessageHistory(messages=[HumanMessage(content='I need prescription for fever '), AIMessage(content=\"I'm sorry, but as a Medical Bot, I am not able to provide prescriptions. If you are experiencing a fever, it's important to consult with a healthcare provider in person or through a telehealth appointment. A healthcare professional can assess your symptoms, determine the underlying cause of the fever, and provide appropriate treatment or medication if necessary. In the meantime, you can try to manage your fever by staying hydrated, getting plenty of rest, and taking over-the-counter fever-reducing medications like acetaminophen or ibuprofen following the recommended dosage instructions. If your fever is persistent, accompanied by severe symptoms, or if you have any underlying health conditions, please seek medical attention promptly.\")]), 'Consult doctor.': InMemoryChatMessageHistory(messages=[])}\n"
     ]
    },
    {
     "data": {
      "text/plain": [
       "\"If you need to consult a doctor, it's important to schedule an appointment with a healthcare provider. Depending on your location and healthcare system, you can contact your primary care physician, a specialist, or visit an urgent care center or hospital if it's an emergency. It's essential to seek professional medical advice for any health concerns you may have. If you need help finding a doctor or have questions about your health, feel free to ask for guidance.\""
      ]
     },
     "execution_count": 13,
     "metadata": {},
     "output_type": "execute_result"
    }
   ],
   "source": [
    "user_input=\"I need prescription for fever \"\n",
    "q=Query()\n",
    "session_id,response=q.handle_user_input(user_input)\n",
    "response\n",
    "\n",
    "user_input=\"I need to consult a doctot \"\n",
    "q=Query()\n",
    "session_id,response=q.handle_user_input(user_input)\n",
    "response"
   ]
  },
  {
   "cell_type": "code",
   "execution_count": 6,
   "metadata": {},
   "outputs": [
    {
     "name": "stdout",
     "output_type": "stream",
     "text": [
      "{'configurable': {'session_id': 'Consult doctor'}}\n",
      "{'Consult doctor': InMemoryChatMessageHistory(messages=[])}\n"
     ]
    },
    {
     "data": {
      "text/plain": [
       "\"If you need to consult a doctor, it's important to schedule an appointment with a healthcare provider. They can assess your symptoms, provide a diagnosis, and recommend appropriate treatment. If it's an emergency, please seek immediate medical attention by calling emergency services or going to the nearest hospital. If you have any specific medical questions or concerns, feel free to ask, and I'll do my best to provide information to help you.\""
      ]
     },
     "execution_count": 6,
     "metadata": {},
     "output_type": "execute_result"
    }
   ],
   "source": [
    "user_input=\"I need to consult a doctot \"\n",
    "q=Query()\n",
    "session_id,response=q.handle_user_input(user_input)\n",
    "response"
   ]
  },
  {
   "cell_type": "code",
   "execution_count": 7,
   "metadata": {},
   "outputs": [
    {
     "ename": "AttributeError",
     "evalue": "type object 'Query' has no attribute 'chat_histories'",
     "output_type": "error",
     "traceback": [
      "\u001b[1;31m---------------------------------------------------------------------------\u001b[0m",
      "\u001b[1;31mAttributeError\u001b[0m                            Traceback (most recent call last)",
      "Cell \u001b[1;32mIn[7], line 1\u001b[0m\n\u001b[1;32m----> 1\u001b[0m \u001b[43mQuery\u001b[49m\u001b[38;5;241;43m.\u001b[39;49m\u001b[43mchat_histories\u001b[49m\n",
      "\u001b[1;31mAttributeError\u001b[0m: type object 'Query' has no attribute 'chat_histories'"
     ]
    }
   ],
   "source": []
  },
  {
   "cell_type": "code",
   "execution_count": null,
   "metadata": {},
   "outputs": [],
   "source": []
  }
 ],
 "metadata": {
  "kernelspec": {
   "display_name": "Python 3",
   "language": "python",
   "name": "python3"
  },
  "language_info": {
   "codemirror_mode": {
    "name": "ipython",
    "version": 3
   },
   "file_extension": ".py",
   "mimetype": "text/x-python",
   "name": "python",
   "nbconvert_exporter": "python",
   "pygments_lexer": "ipython3",
   "version": "3.10.14"
  }
 },
 "nbformat": 4,
 "nbformat_minor": 2
}
